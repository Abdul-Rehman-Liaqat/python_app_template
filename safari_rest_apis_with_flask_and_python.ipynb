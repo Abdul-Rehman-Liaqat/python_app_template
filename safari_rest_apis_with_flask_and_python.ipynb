{
 "cells": [
  {
   "cell_type": "markdown",
   "metadata": {},
   "source": [
    "## Nice python data structures info"
   ]
  },
  {
   "cell_type": "code",
   "execution_count": 3,
   "metadata": {},
   "outputs": [],
   "source": [
    "list_a = [1,2,3,4,4]\n",
    "tupple_a = (1,2,3,4,4) # immutable\n",
    "set_a = {1,2,3,4} # If only one element then set_a = {1,}. Also set has set_a.intersection(set_a),set_a.union(set_a),set_a.difference(set_a) operations\n",
    "dict_a = {\"1\":1,\"2\":2,\"3\":3,\"4\":4}"
   ]
  },
  {
   "cell_type": "markdown",
   "metadata": {},
   "source": [
    "## Python Object Oriented Programming\n",
    "\n",
    "### Example 1"
   ]
  },
  {
   "cell_type": "code",
   "execution_count": 4,
   "metadata": {},
   "outputs": [],
   "source": [
    "class lottery_player:\n",
    "    def __init__(self,name,numbers):\n",
    "        self.name = name\n",
    "        self.numbers = numbers\n",
    "    def return_numbers_total(self):\n",
    "        return sum(self.numbers)"
   ]
  },
  {
   "cell_type": "code",
   "execution_count": 6,
   "metadata": {},
   "outputs": [],
   "source": [
    "test = lottery_player('a',[1,2,3])"
   ]
  },
  {
   "cell_type": "code",
   "execution_count": 7,
   "metadata": {},
   "outputs": [
    {
     "data": {
      "text/plain": [
       "6"
      ]
     },
     "execution_count": 7,
     "metadata": {},
     "output_type": "execute_result"
    }
   ],
   "source": [
    "test.return_numbers_total()"
   ]
  },
  {
   "cell_type": "markdown",
   "metadata": {},
   "source": [
    "### Example 2"
   ]
  },
  {
   "cell_type": "code",
   "execution_count": 13,
   "metadata": {},
   "outputs": [],
   "source": [
    "class student:\n",
    "    def __init__(self,name,school):\n",
    "        self.name = name\n",
    "        self.school = school\n",
    "        self.grade = []\n",
    "    def cal_average_grade(self):\n",
    "        return sum(self.grade)/len(self.grade)\n",
    "    @classmethod\n",
    "    def go_to_school_ClassMethod(cls): # Class type method.\n",
    "        print(\"student is going to school\")\n",
    "        print(\"student is gong to school and this class is {}\".format(cls))\n",
    "    @staticmethod\n",
    "    def go_to_school_StaticMethod():\n",
    "        print(\"student it going to school and this is a static method\")"
   ]
  },
  {
   "cell_type": "code",
   "execution_count": 14,
   "metadata": {},
   "outputs": [
    {
     "data": {
      "text/plain": [
       "71.0"
      ]
     },
     "execution_count": 14,
     "metadata": {},
     "output_type": "execute_result"
    }
   ],
   "source": [
    "anna = student('anna','MIT')\n",
    "anna.grade.append(56)\n",
    "anna.grade.append(86)\n",
    "anna.cal_average_grade()"
   ]
  },
  {
   "cell_type": "code",
   "execution_count": 17,
   "metadata": {},
   "outputs": [
    {
     "name": "stdout",
     "output_type": "stream",
     "text": [
      "student is going to school\n",
      "student is gong to school and this class is <class '__main__.student'>\n",
      "None\n",
      "student it going to school and this is a static method\n",
      "None\n"
     ]
    }
   ],
   "source": [
    "print(anna.go_to_school_ClassMethod()) # can be called and the class of object is passed as argument\n",
    "print(student.go_to_school_StaticMethod()) # static methods go without any argument and hence be called through class name"
   ]
  },
  {
   "cell_type": "code",
   "execution_count": null,
   "metadata": {},
   "outputs": [],
   "source": []
  }
 ],
 "metadata": {
  "kernelspec": {
   "display_name": "Python 3",
   "language": "python",
   "name": "python3"
  },
  "language_info": {
   "codemirror_mode": {
    "name": "ipython",
    "version": 3
   },
   "file_extension": ".py",
   "mimetype": "text/x-python",
   "name": "python",
   "nbconvert_exporter": "python",
   "pygments_lexer": "ipython3",
   "version": "3.6.1"
  }
 },
 "nbformat": 4,
 "nbformat_minor": 2
}
